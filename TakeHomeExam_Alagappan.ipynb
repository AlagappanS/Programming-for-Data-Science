{
 "cells": [
  {
   "cell_type": "markdown",
   "metadata": {},
   "source": [
    "Github Link: https://github.com/AlagappanS/Programming-for-Data-Science/blob/master/TakeHomeExam_Alagappan.ipynb"
   ]
  },
  {
   "attachments": {
    "flowchart.png": {
     "image/png": "[encoded data removed]"
    }
   },
   "cell_type": "markdown",
   "metadata": {},
   "source": [
    "# Part 1: \n",
    "In your project you have been working with a bias dataset. Most probabely suupervised models were underfit. You should remember that this is a real dataset, and in real life most of the time you dont have access to clean and unbias dataset. In situations like this, none of the regression models will have a good fit for the dataset due to the large predence of the 0s. In the first part of this take-home exam, you are asked to be creative, and find a solution for this problem. \n",
    "\n",
    "For this dataset, you can break the problem, into a two-step machine learning model. \n",
    "\n",
    "First step is to classify the data points as positive revenue and zero revenue. This simply is a binary classification. You should remember that when you are dealing with biased datasets, accuracy is not a reliable scoring metric. So look for a robust scoring function. \n",
    "\n",
    "Next, you need to build a regression model to postprocess classification results. Here is a flow chart to show you the outline of the model. \n",
    "\n",
    "![flowchart.png](attachment:flowchart.png)"
   ]
  },
  {
   "attachments": {},
   "cell_type": "markdown",
   "metadata": {},
   "source": [
    "# Part 2\n",
    "In this part you will create a Python function ``plot_decision_boundary`` that will accepts a machine learning model, feature set ``X``, and target set ``y`` as input and will plot the decision boundary of the input machine learning model  on ``(X,y)``. The following is a sample run of this function: \n",
    "\n",
    "```Python\n",
    "%matplotlib inline\n",
    "# Loading some example data\n",
    "iris = datasets.load_iris()\n",
    "X = iris.data[:, [0, 2]]\n",
    "y = iris.target\n",
    "\n",
    "# Training a classifier\n",
    "svm = SVC(C=0.5, kernel='linear')\n",
    "svm.fit(X, y)\n",
    "\n",
    "# Plotting decision boundary\n",
    "plot_decision_boundary(X, y, clf=svm)\n",
    "\n",
    "# Adding axes annotations\n",
    "plt.xlabel('sepal length [cm]')\n",
    "plt.ylabel('petal length [cm]')\n",
    "plt.title('SVM on Iris')```\n",
    "\n",
    "Sample output: \n",
    "![decision_boundary.png](attachment:decision_boundary.png)"
   ]
  },
  {
   "cell_type": "code",
   "execution_count": 1,
   "metadata": {},
   "outputs": [],
   "source": [
    "def plot_decision_boundary():\n",
    "    \"\"\"\n",
    "    FIXME: complete this function.\n",
    "    \"\"\"\n",
    "    pass"
   ]
  },
  {
   "cell_type": "markdown",
   "metadata": {},
   "source": [
    "## PART 1 ##"
   ]
  },
  {
   "cell_type": "markdown",
   "metadata": {},
   "source": [
    "IMPORTING PACKAGES"
   ]
  },
  {
   "cell_type": "code",
   "execution_count": 2,
   "metadata": {},
   "outputs": [],
   "source": [
    "import numpy as np\n",
    "import pandas as pd\n",
    "import matplotlib.pyplot as plt\n",
    "import seaborn as sns\n",
    "%matplotlib inline\n",
    "import warnings\n",
    "warnings.filterwarnings('ignore')"
   ]
  },
  {
   "cell_type": "markdown",
   "metadata": {},
   "source": [
    "LOADING DATASET"
   ]
  },
  {
   "cell_type": "code",
   "execution_count": 3,
   "metadata": {},
   "outputs": [
    {
     "data": {
      "text/html": [
       "<div>\n",
       "<style scoped>\n",
       "    .dataframe tbody tr th:only-of-type {\n",
       "        vertical-align: middle;\n",
       "    }\n",
       "\n",
       "    .dataframe tbody tr th {\n",
       "        vertical-align: top;\n",
       "    }\n",
       "\n",
       "    .dataframe thead th {\n",
       "        text-align: right;\n",
       "    }\n",
       "</style>\n",
       "<table border=\"1\" class=\"dataframe\">\n",
       "  <thead>\n",
       "    <tr style=\"text-align: right;\">\n",
       "      <th></th>\n",
       "      <th>channelGrouping</th>\n",
       "      <th>customDimensions</th>\n",
       "      <th>date</th>\n",
       "      <th>device</th>\n",
       "      <th>fullVisitorId</th>\n",
       "      <th>geoNetwork</th>\n",
       "      <th>hits</th>\n",
       "      <th>socialEngagementType</th>\n",
       "      <th>trafficSource</th>\n",
       "      <th>visitId</th>\n",
       "      <th>...</th>\n",
       "      <th>totals_bounces</th>\n",
       "      <th>totals_hits</th>\n",
       "      <th>totals_newVisits</th>\n",
       "      <th>totals_pageviews</th>\n",
       "      <th>totals_sessionQualityDim</th>\n",
       "      <th>totals_timeOnSite</th>\n",
       "      <th>totals_totalTransactionRevenue</th>\n",
       "      <th>totals_transactionRevenue</th>\n",
       "      <th>totals_transactions</th>\n",
       "      <th>totals_visits</th>\n",
       "    </tr>\n",
       "  </thead>\n",
       "  <tbody>\n",
       "    <tr>\n",
       "      <th>0</th>\n",
       "      <td>Organic Search</td>\n",
       "      <td>[{'index': '4', 'value': 'EMEA'}]</td>\n",
       "      <td>20171016</td>\n",
       "      <td>{'mobileDeviceInfo': 'not available in demo da...</td>\n",
       "      <td>3162355547410993243</td>\n",
       "      <td>{'cityId': 'not available in demo dataset', 'm...</td>\n",
       "      <td>[{'hitNumber': '1', 'time': '0', 'hour': '17',...</td>\n",
       "      <td>Not Socially Engaged</td>\n",
       "      <td>{'campaign': '(not set)', 'source': 'google', ...</td>\n",
       "      <td>1508198450</td>\n",
       "      <td>...</td>\n",
       "      <td>1.0</td>\n",
       "      <td>1</td>\n",
       "      <td>1.0</td>\n",
       "      <td>1.0</td>\n",
       "      <td>1.0</td>\n",
       "      <td>NaN</td>\n",
       "      <td>NaN</td>\n",
       "      <td>NaN</td>\n",
       "      <td>NaN</td>\n",
       "      <td>1</td>\n",
       "    </tr>\n",
       "    <tr>\n",
       "      <th>1</th>\n",
       "      <td>Referral</td>\n",
       "      <td>[{'index': '4', 'value': 'North America'}]</td>\n",
       "      <td>20171016</td>\n",
       "      <td>{'mobileDeviceInfo': 'not available in demo da...</td>\n",
       "      <td>8934116514970143966</td>\n",
       "      <td>{'cityId': 'not available in demo dataset', 'm...</td>\n",
       "      <td>[{'hitNumber': '1', 'time': '0', 'hour': '10',...</td>\n",
       "      <td>Not Socially Engaged</td>\n",
       "      <td>{'referralPath': '/a/google.com/transportation...</td>\n",
       "      <td>1508176307</td>\n",
       "      <td>...</td>\n",
       "      <td>NaN</td>\n",
       "      <td>2</td>\n",
       "      <td>NaN</td>\n",
       "      <td>2.0</td>\n",
       "      <td>2.0</td>\n",
       "      <td>28.0</td>\n",
       "      <td>NaN</td>\n",
       "      <td>NaN</td>\n",
       "      <td>NaN</td>\n",
       "      <td>1</td>\n",
       "    </tr>\n",
       "  </tbody>\n",
       "</table>\n",
       "<p>2 rows × 22 columns</p>\n",
       "</div>"
      ],
      "text/plain": [
       "  channelGrouping                            customDimensions      date  \\\n",
       "0  Organic Search           [{'index': '4', 'value': 'EMEA'}]  20171016   \n",
       "1        Referral  [{'index': '4', 'value': 'North America'}]  20171016   \n",
       "\n",
       "                                              device        fullVisitorId  \\\n",
       "0  {'mobileDeviceInfo': 'not available in demo da...  3162355547410993243   \n",
       "1  {'mobileDeviceInfo': 'not available in demo da...  8934116514970143966   \n",
       "\n",
       "                                          geoNetwork  \\\n",
       "0  {'cityId': 'not available in demo dataset', 'm...   \n",
       "1  {'cityId': 'not available in demo dataset', 'm...   \n",
       "\n",
       "                                                hits  socialEngagementType  \\\n",
       "0  [{'hitNumber': '1', 'time': '0', 'hour': '17',...  Not Socially Engaged   \n",
       "1  [{'hitNumber': '1', 'time': '0', 'hour': '10',...  Not Socially Engaged   \n",
       "\n",
       "                                       trafficSource     visitId  \\\n",
       "0  {'campaign': '(not set)', 'source': 'google', ...  1508198450   \n",
       "1  {'referralPath': '/a/google.com/transportation...  1508176307   \n",
       "\n",
       "       ...        totals_bounces  totals_hits  totals_newVisits  \\\n",
       "0      ...                   1.0            1               1.0   \n",
       "1      ...                   NaN            2               NaN   \n",
       "\n",
       "   totals_pageviews  totals_sessionQualityDim  totals_timeOnSite  \\\n",
       "0               1.0                       1.0                NaN   \n",
       "1               2.0                       2.0               28.0   \n",
       "\n",
       "   totals_totalTransactionRevenue  totals_transactionRevenue  \\\n",
       "0                             NaN                        NaN   \n",
       "1                             NaN                        NaN   \n",
       "\n",
       "   totals_transactions  totals_visits  \n",
       "0                  NaN              1  \n",
       "1                  NaN              1  \n",
       "\n",
       "[2 rows x 22 columns]"
      ]
     },
     "execution_count": 3,
     "metadata": {},
     "output_type": "execute_result"
    }
   ],
   "source": [
    "df = pd.read_csv('data.csv')\n",
    "df.head(2)"
   ]
  },
  {
   "cell_type": "markdown",
   "metadata": {},
   "source": [
    "DATA CLEANING"
   ]
  },
  {
   "cell_type": "code",
   "execution_count": 4,
   "metadata": {},
   "outputs": [
    {
     "data": {
      "text/html": [
       "<div>\n",
       "<style scoped>\n",
       "    .dataframe tbody tr th:only-of-type {\n",
       "        vertical-align: middle;\n",
       "    }\n",
       "\n",
       "    .dataframe tbody tr th {\n",
       "        vertical-align: top;\n",
       "    }\n",
       "\n",
       "    .dataframe thead th {\n",
       "        text-align: right;\n",
       "    }\n",
       "</style>\n",
       "<table border=\"1\" class=\"dataframe\">\n",
       "  <thead>\n",
       "    <tr style=\"text-align: right;\">\n",
       "      <th></th>\n",
       "      <th>cg_Affiliates</th>\n",
       "      <th>cg_Direct</th>\n",
       "      <th>cg_Display</th>\n",
       "      <th>cg_Organic Search</th>\n",
       "      <th>cg_Paid Search</th>\n",
       "      <th>cg_Referral</th>\n",
       "      <th>cg_Social</th>\n",
       "      <th>totals_bounces</th>\n",
       "      <th>totals_hits</th>\n",
       "      <th>totals_newVisits</th>\n",
       "      <th>totals_pageviews</th>\n",
       "      <th>totals_sessionQualityDim</th>\n",
       "      <th>totals_timeOnSite</th>\n",
       "      <th>totals_transactionRevenue</th>\n",
       "      <th>totals_transactions</th>\n",
       "    </tr>\n",
       "  </thead>\n",
       "  <tbody>\n",
       "    <tr>\n",
       "      <th>0</th>\n",
       "      <td>0</td>\n",
       "      <td>0</td>\n",
       "      <td>0</td>\n",
       "      <td>1</td>\n",
       "      <td>0</td>\n",
       "      <td>0</td>\n",
       "      <td>0</td>\n",
       "      <td>1.0</td>\n",
       "      <td>1</td>\n",
       "      <td>1.0</td>\n",
       "      <td>1.0</td>\n",
       "      <td>1.0</td>\n",
       "      <td>0.0</td>\n",
       "      <td>0.0</td>\n",
       "      <td>0.0</td>\n",
       "    </tr>\n",
       "    <tr>\n",
       "      <th>1</th>\n",
       "      <td>0</td>\n",
       "      <td>0</td>\n",
       "      <td>0</td>\n",
       "      <td>0</td>\n",
       "      <td>0</td>\n",
       "      <td>1</td>\n",
       "      <td>0</td>\n",
       "      <td>0.0</td>\n",
       "      <td>2</td>\n",
       "      <td>0.0</td>\n",
       "      <td>2.0</td>\n",
       "      <td>2.0</td>\n",
       "      <td>28.0</td>\n",
       "      <td>0.0</td>\n",
       "      <td>0.0</td>\n",
       "    </tr>\n",
       "  </tbody>\n",
       "</table>\n",
       "</div>"
      ],
      "text/plain": [
       "   cg_Affiliates  cg_Direct  cg_Display  cg_Organic Search  cg_Paid Search  \\\n",
       "0              0          0           0                  1               0   \n",
       "1              0          0           0                  0               0   \n",
       "\n",
       "   cg_Referral  cg_Social  totals_bounces  totals_hits  totals_newVisits  \\\n",
       "0            0          0             1.0            1               1.0   \n",
       "1            1          0             0.0            2               0.0   \n",
       "\n",
       "   totals_pageviews  totals_sessionQualityDim  totals_timeOnSite  \\\n",
       "0               1.0                       1.0                0.0   \n",
       "1               2.0                       2.0               28.0   \n",
       "\n",
       "   totals_transactionRevenue  totals_transactions  \n",
       "0                        0.0                  0.0  \n",
       "1                        0.0                  0.0  "
      ]
     },
     "execution_count": 4,
     "metadata": {},
     "output_type": "execute_result"
    }
   ],
   "source": [
    "df1 = df.copy()[['channelGrouping', 'totals_bounces', 'totals_hits', 'totals_newVisits', 'totals_pageviews', 'totals_sessionQualityDim', 'totals_timeOnSite', 'totals_transactionRevenue', 'totals_transactions']]\n",
    "cg = pd.get_dummies(df1['channelGrouping'], prefix= 'cg')\n",
    "df1 = pd.concat([cg, df1], axis=1)\n",
    "df1 = df1.drop('channelGrouping', axis=1).fillna(0)\n",
    "df1.head(2)"
   ]
  },
  {
   "cell_type": "markdown",
   "metadata": {},
   "source": [
    "NORMALIZING JSON"
   ]
  },
  {
   "cell_type": "code",
   "execution_count": 5,
   "metadata": {},
   "outputs": [],
   "source": [
    "a = pd.io.json.json_normalize(df['trafficSource'].apply(eval))\n",
    "b = pd.io.json.json_normalize(df['geoNetwork'].apply(eval))\n",
    "c = pd.io.json.json_normalize(df['device'].apply(eval))\n",
    "import ast\n",
    "df['hits'] = df['hits'].apply(ast.literal_eval).str[0]\n",
    "df['hits'] =df['hits'].apply(lambda x: {'index':np.NaN,'value':np.NaN} if pd.isnull(x) else x)\n",
    "d = pd.io.json.json_normalize(df['hits'])"
   ]
  },
  {
   "cell_type": "markdown",
   "metadata": {},
   "source": [
    "trafficSource COLUMN"
   ]
  },
  {
   "cell_type": "code",
   "execution_count": 6,
   "metadata": {},
   "outputs": [
    {
     "data": {
      "text/html": [
       "<div>\n",
       "<style scoped>\n",
       "    .dataframe tbody tr th:only-of-type {\n",
       "        vertical-align: middle;\n",
       "    }\n",
       "\n",
       "    .dataframe tbody tr th {\n",
       "        vertical-align: top;\n",
       "    }\n",
       "\n",
       "    .dataframe thead th {\n",
       "        text-align: right;\n",
       "    }\n",
       "</style>\n",
       "<table border=\"1\" class=\"dataframe\">\n",
       "  <thead>\n",
       "    <tr style=\"text-align: right;\">\n",
       "      <th></th>\n",
       "      <th>adContent_Google Merchandise Collection</th>\n",
       "      <th>adContent_Google Merchandise Store</th>\n",
       "      <th>adContent_None</th>\n",
       "      <th>adContent_Other</th>\n",
       "      <th>adNetworkType_Content</th>\n",
       "      <th>adNetworkType_Google Search</th>\n",
       "      <th>adNetworkType_None</th>\n",
       "      <th>source_(direct)</th>\n",
       "      <th>source_Partners</th>\n",
       "      <th>source_baidu</th>\n",
       "      <th>...</th>\n",
       "      <th>source_reddit.com</th>\n",
       "      <th>source_siliconvalley.about.com</th>\n",
       "      <th>source_yahoo</th>\n",
       "      <th>source_youtube</th>\n",
       "      <th>medium_(none)</th>\n",
       "      <th>medium_affiliate</th>\n",
       "      <th>medium_cpc</th>\n",
       "      <th>medium_cpm</th>\n",
       "      <th>medium_organic</th>\n",
       "      <th>medium_referral</th>\n",
       "    </tr>\n",
       "  </thead>\n",
       "  <tbody>\n",
       "    <tr>\n",
       "      <th>0</th>\n",
       "      <td>0</td>\n",
       "      <td>0</td>\n",
       "      <td>1</td>\n",
       "      <td>0</td>\n",
       "      <td>0</td>\n",
       "      <td>0</td>\n",
       "      <td>1</td>\n",
       "      <td>0</td>\n",
       "      <td>0</td>\n",
       "      <td>0</td>\n",
       "      <td>...</td>\n",
       "      <td>0</td>\n",
       "      <td>0</td>\n",
       "      <td>0</td>\n",
       "      <td>0</td>\n",
       "      <td>0</td>\n",
       "      <td>0</td>\n",
       "      <td>0</td>\n",
       "      <td>0</td>\n",
       "      <td>1</td>\n",
       "      <td>0</td>\n",
       "    </tr>\n",
       "    <tr>\n",
       "      <th>1</th>\n",
       "      <td>0</td>\n",
       "      <td>0</td>\n",
       "      <td>1</td>\n",
       "      <td>0</td>\n",
       "      <td>0</td>\n",
       "      <td>0</td>\n",
       "      <td>1</td>\n",
       "      <td>0</td>\n",
       "      <td>0</td>\n",
       "      <td>0</td>\n",
       "      <td>...</td>\n",
       "      <td>0</td>\n",
       "      <td>0</td>\n",
       "      <td>0</td>\n",
       "      <td>0</td>\n",
       "      <td>0</td>\n",
       "      <td>0</td>\n",
       "      <td>0</td>\n",
       "      <td>0</td>\n",
       "      <td>0</td>\n",
       "      <td>1</td>\n",
       "    </tr>\n",
       "  </tbody>\n",
       "</table>\n",
       "<p>2 rows × 27 columns</p>\n",
       "</div>"
      ],
      "text/plain": [
       "   adContent_Google Merchandise Collection  \\\n",
       "0                                        0   \n",
       "1                                        0   \n",
       "\n",
       "   adContent_Google Merchandise Store  adContent_None  adContent_Other  \\\n",
       "0                                   0               1                0   \n",
       "1                                   0               1                0   \n",
       "\n",
       "   adNetworkType_Content  adNetworkType_Google Search  adNetworkType_None  \\\n",
       "0                      0                            0                   1   \n",
       "1                      0                            0                   1   \n",
       "\n",
       "   source_(direct)  source_Partners  source_baidu       ...         \\\n",
       "0                0                0             0       ...          \n",
       "1                0                0             0       ...          \n",
       "\n",
       "   source_reddit.com  source_siliconvalley.about.com  source_yahoo  \\\n",
       "0                  0                               0             0   \n",
       "1                  0                               0             0   \n",
       "\n",
       "   source_youtube  medium_(none)  medium_affiliate  medium_cpc  medium_cpm  \\\n",
       "0               0              0                 0           0           0   \n",
       "1               0              0                 0           0           0   \n",
       "\n",
       "   medium_organic  medium_referral  \n",
       "0               1                0  \n",
       "1               0                1  \n",
       "\n",
       "[2 rows x 27 columns]"
      ]
     },
     "execution_count": 6,
     "metadata": {},
     "output_type": "execute_result"
    }
   ],
   "source": [
    "a['adContent'] = a.adContent.fillna('None')\n",
    "a['adwordsClickInfo.adNetworkType'] = a['adwordsClickInfo.adNetworkType'].fillna('None')\n",
    "p = a['adContent'].isin(a['adContent'].value_counts().index[a['adContent'].value_counts()<25])\n",
    "a['adContent'] [p] = 'Other'\n",
    "adContent = pd.get_dummies(a['adContent'], prefix= 'adContent')\n",
    "\n",
    "a['adwordsClickInfo.adNetworkType'].value_counts()\n",
    "adNetworkType = pd.get_dummies(a['adwordsClickInfo.adNetworkType'], prefix= 'adNetworkType')\n",
    "\n",
    "source_list = ['google', 'facebook', 'yahoo', 'linkedin', 'youtube']\n",
    "for source in source_list:\n",
    "    a.loc[a['source'].str.contains(source), 'source'] = source\n",
    "p = a['source'].isin(a['source'].value_counts().index[a['source'].value_counts()<25])\n",
    "a['source'] [p] = 'other'\n",
    "source = pd.get_dummies(a['source'], prefix= 'source')\n",
    "medium = pd.get_dummies(a['medium'], prefix= 'medium')\n",
    "trafficSource = pd.concat([adContent, adNetworkType, source, medium], axis = 1)\n",
    "\n",
    "trafficSource.head(2)"
   ]
  },
  {
   "cell_type": "markdown",
   "metadata": {},
   "source": [
    "Visualizing trafficinfo\n",
    "\n",
    "Combined Google and youtube sources contribute to over 50% of the website traffic, followed be users who visit the website directly.\n",
    "Referal and organic media have lead to 10,000 users visiting the website."
   ]
  },
  {
   "cell_type": "code",
   "execution_count": 7,
   "metadata": {},
   "outputs": [
    {
     "data": {
      "image/png": "[encoded data removed]",
      "text/plain": [
       "<Figure size 432x288 with 1 Axes>"
      ]
     },
     "metadata": {},
     "output_type": "display_data"
    },
    {
     "data": {
      "image/png": "[encoded data removed]",
      "text/plain": [
       "<Figure size 432x288 with 1 Axes>"
      ]
     },
     "metadata": {},
     "output_type": "display_data"
    }
   ],
   "source": [
    "for i in a[['source', 'medium']]:\n",
    "    plt.figure()\n",
    "    plt.xlabel('No. of Users')\n",
    "    plt.title(str.capitalize(i))\n",
    "    a[i].value_counts().plot(kind='barh', grid = True)\n",
    "    plt.gca().invert_yaxis()  "
   ]
  },
  {
   "cell_type": "markdown",
   "metadata": {},
   "source": [
    "geoNetwork COLUMN"
   ]
  },
  {
   "cell_type": "code",
   "execution_count": 8,
   "metadata": {},
   "outputs": [
    {
     "data": {
      "text/html": [
       "<div>\n",
       "<style scoped>\n",
       "    .dataframe tbody tr th:only-of-type {\n",
       "        vertical-align: middle;\n",
       "    }\n",
       "\n",
       "    .dataframe tbody tr th {\n",
       "        vertical-align: top;\n",
       "    }\n",
       "\n",
       "    .dataframe thead th {\n",
       "        text-align: right;\n",
       "    }\n",
       "</style>\n",
       "<table border=\"1\" class=\"dataframe\">\n",
       "  <thead>\n",
       "    <tr style=\"text-align: right;\">\n",
       "      <th></th>\n",
       "      <th>country_Argentina</th>\n",
       "      <th>country_Australia</th>\n",
       "      <th>country_Belgium</th>\n",
       "      <th>country_Brazil</th>\n",
       "      <th>country_Canada</th>\n",
       "      <th>country_China</th>\n",
       "      <th>country_Czechia</th>\n",
       "      <th>country_France</th>\n",
       "      <th>country_Germany</th>\n",
       "      <th>country_India</th>\n",
       "      <th>...</th>\n",
       "      <th>subContinent_Northern Europe</th>\n",
       "      <th>subContinent_South America</th>\n",
       "      <th>subContinent_Southeast Asia</th>\n",
       "      <th>subContinent_Southern Africa</th>\n",
       "      <th>subContinent_Southern Asia</th>\n",
       "      <th>subContinent_Southern Europe</th>\n",
       "      <th>subContinent_Western Africa</th>\n",
       "      <th>subContinent_Western Asia</th>\n",
       "      <th>subContinent_Western Europe</th>\n",
       "      <th>subContinent_other</th>\n",
       "    </tr>\n",
       "  </thead>\n",
       "  <tbody>\n",
       "    <tr>\n",
       "      <th>0</th>\n",
       "      <td>0</td>\n",
       "      <td>0</td>\n",
       "      <td>0</td>\n",
       "      <td>0</td>\n",
       "      <td>0</td>\n",
       "      <td>0</td>\n",
       "      <td>0</td>\n",
       "      <td>0</td>\n",
       "      <td>1</td>\n",
       "      <td>0</td>\n",
       "      <td>...</td>\n",
       "      <td>0</td>\n",
       "      <td>0</td>\n",
       "      <td>0</td>\n",
       "      <td>0</td>\n",
       "      <td>0</td>\n",
       "      <td>0</td>\n",
       "      <td>0</td>\n",
       "      <td>0</td>\n",
       "      <td>1</td>\n",
       "      <td>0</td>\n",
       "    </tr>\n",
       "    <tr>\n",
       "      <th>1</th>\n",
       "      <td>0</td>\n",
       "      <td>0</td>\n",
       "      <td>0</td>\n",
       "      <td>0</td>\n",
       "      <td>0</td>\n",
       "      <td>0</td>\n",
       "      <td>0</td>\n",
       "      <td>0</td>\n",
       "      <td>0</td>\n",
       "      <td>0</td>\n",
       "      <td>...</td>\n",
       "      <td>0</td>\n",
       "      <td>0</td>\n",
       "      <td>0</td>\n",
       "      <td>0</td>\n",
       "      <td>0</td>\n",
       "      <td>0</td>\n",
       "      <td>0</td>\n",
       "      <td>0</td>\n",
       "      <td>0</td>\n",
       "      <td>0</td>\n",
       "    </tr>\n",
       "  </tbody>\n",
       "</table>\n",
       "<p>2 rows × 52 columns</p>\n",
       "</div>"
      ],
      "text/plain": [
       "   country_Argentina  country_Australia  country_Belgium  country_Brazil  \\\n",
       "0                  0                  0                0               0   \n",
       "1                  0                  0                0               0   \n",
       "\n",
       "   country_Canada  country_China  country_Czechia  country_France  \\\n",
       "0               0              0                0               0   \n",
       "1               0              0                0               0   \n",
       "\n",
       "   country_Germany  country_India         ...          \\\n",
       "0                1              0         ...           \n",
       "1                0              0         ...           \n",
       "\n",
       "   subContinent_Northern Europe  subContinent_South America  \\\n",
       "0                             0                           0   \n",
       "1                             0                           0   \n",
       "\n",
       "   subContinent_Southeast Asia  subContinent_Southern Africa  \\\n",
       "0                            0                             0   \n",
       "1                            0                             0   \n",
       "\n",
       "   subContinent_Southern Asia  subContinent_Southern Europe  \\\n",
       "0                           0                             0   \n",
       "1                           0                             0   \n",
       "\n",
       "   subContinent_Western Africa  subContinent_Western Asia  \\\n",
       "0                            0                          0   \n",
       "1                            0                          0   \n",
       "\n",
       "   subContinent_Western Europe  subContinent_other  \n",
       "0                            1                   0  \n",
       "1                            0                   0  \n",
       "\n",
       "[2 rows x 52 columns]"
      ]
     },
     "execution_count": 8,
     "metadata": {},
     "output_type": "execute_result"
    }
   ],
   "source": [
    "p = b['subContinent'].isin(b['subContinent'].value_counts().index[b['subContinent'].value_counts()<50])\n",
    "b['subContinent'] [p] = 'other'\n",
    "p = b['country'].isin(b['country'].value_counts().index[b['country'].value_counts()<100])\n",
    "b['country'] [p] = 'other'\n",
    "countries = pd.get_dummies(b['country'], prefix= 'country')\n",
    "subContinents = pd.get_dummies(b['subContinent'], prefix= 'subContinent')\n",
    "geo_network = pd.concat([countries, subContinents], axis = 1)\n",
    "\n",
    "geo_network.head(2)"
   ]
  },
  {
   "cell_type": "markdown",
   "metadata": {},
   "source": [
    "Visualizing geoNetwork data\n",
    "Graph indicates that >50% of the users in the dataset are from North, Central and South Americas.\n"
   ]
  },
  {
   "cell_type": "code",
   "execution_count": 9,
   "metadata": {},
   "outputs": [
    {
     "data": {
      "image/png": "[encoded data removed]",
      "text/plain": [
       "<Figure size 432x288 with 1 Axes>"
      ]
     },
     "metadata": {},
     "output_type": "display_data"
    },
    {
     "data": {
      "image/png": "[encoded data removed]",
      "text/plain": [
       "<Figure size 432x288 with 1 Axes>"
      ]
     },
     "metadata": {},
     "output_type": "display_data"
    }
   ],
   "source": [
    "for i in b[['subContinent', 'continent']]:\n",
    "    plt.figure()\n",
    "    plt.xlabel('No. of Users')\n",
    "    plt.title(str.capitalize(i))\n",
    "    b[i].value_counts().plot(kind='barh', grid = True)\n",
    "    plt.gca().invert_yaxis()  "
   ]
  },
  {
   "cell_type": "markdown",
   "metadata": {},
   "source": [
    "device Column"
   ]
  },
  {
   "cell_type": "code",
   "execution_count": 10,
   "metadata": {},
   "outputs": [
    {
     "data": {
      "text/html": [
       "<div>\n",
       "<style scoped>\n",
       "    .dataframe tbody tr th:only-of-type {\n",
       "        vertical-align: middle;\n",
       "    }\n",
       "\n",
       "    .dataframe tbody tr th {\n",
       "        vertical-align: top;\n",
       "    }\n",
       "\n",
       "    .dataframe thead th {\n",
       "        text-align: right;\n",
       "    }\n",
       "</style>\n",
       "<table border=\"1\" class=\"dataframe\">\n",
       "  <thead>\n",
       "    <tr style=\"text-align: right;\">\n",
       "      <th></th>\n",
       "      <th>browser_Android Webview</th>\n",
       "      <th>browser_Chrome</th>\n",
       "      <th>browser_Edge</th>\n",
       "      <th>browser_Firefox</th>\n",
       "      <th>browser_Internet Explorer</th>\n",
       "      <th>browser_Opera Mini</th>\n",
       "      <th>browser_Safari</th>\n",
       "      <th>browser_other</th>\n",
       "      <th>device_desktop</th>\n",
       "      <th>device_mobile</th>\n",
       "      <th>device_tablet</th>\n",
       "      <th>OS_Android</th>\n",
       "      <th>OS_Chrome OS</th>\n",
       "      <th>OS_Linux</th>\n",
       "      <th>OS_Macintosh</th>\n",
       "      <th>OS_Windows</th>\n",
       "      <th>OS_iOS</th>\n",
       "      <th>OS_other</th>\n",
       "    </tr>\n",
       "  </thead>\n",
       "  <tbody>\n",
       "    <tr>\n",
       "      <th>0</th>\n",
       "      <td>0</td>\n",
       "      <td>0</td>\n",
       "      <td>0</td>\n",
       "      <td>1</td>\n",
       "      <td>0</td>\n",
       "      <td>0</td>\n",
       "      <td>0</td>\n",
       "      <td>0</td>\n",
       "      <td>1</td>\n",
       "      <td>0</td>\n",
       "      <td>0</td>\n",
       "      <td>0</td>\n",
       "      <td>0</td>\n",
       "      <td>0</td>\n",
       "      <td>0</td>\n",
       "      <td>1</td>\n",
       "      <td>0</td>\n",
       "      <td>0</td>\n",
       "    </tr>\n",
       "    <tr>\n",
       "      <th>1</th>\n",
       "      <td>0</td>\n",
       "      <td>1</td>\n",
       "      <td>0</td>\n",
       "      <td>0</td>\n",
       "      <td>0</td>\n",
       "      <td>0</td>\n",
       "      <td>0</td>\n",
       "      <td>0</td>\n",
       "      <td>1</td>\n",
       "      <td>0</td>\n",
       "      <td>0</td>\n",
       "      <td>0</td>\n",
       "      <td>1</td>\n",
       "      <td>0</td>\n",
       "      <td>0</td>\n",
       "      <td>0</td>\n",
       "      <td>0</td>\n",
       "      <td>0</td>\n",
       "    </tr>\n",
       "    <tr>\n",
       "      <th>2</th>\n",
       "      <td>0</td>\n",
       "      <td>1</td>\n",
       "      <td>0</td>\n",
       "      <td>0</td>\n",
       "      <td>0</td>\n",
       "      <td>0</td>\n",
       "      <td>0</td>\n",
       "      <td>0</td>\n",
       "      <td>0</td>\n",
       "      <td>1</td>\n",
       "      <td>0</td>\n",
       "      <td>1</td>\n",
       "      <td>0</td>\n",
       "      <td>0</td>\n",
       "      <td>0</td>\n",
       "      <td>0</td>\n",
       "      <td>0</td>\n",
       "      <td>0</td>\n",
       "    </tr>\n",
       "    <tr>\n",
       "      <th>3</th>\n",
       "      <td>0</td>\n",
       "      <td>1</td>\n",
       "      <td>0</td>\n",
       "      <td>0</td>\n",
       "      <td>0</td>\n",
       "      <td>0</td>\n",
       "      <td>0</td>\n",
       "      <td>0</td>\n",
       "      <td>1</td>\n",
       "      <td>0</td>\n",
       "      <td>0</td>\n",
       "      <td>0</td>\n",
       "      <td>0</td>\n",
       "      <td>0</td>\n",
       "      <td>0</td>\n",
       "      <td>1</td>\n",
       "      <td>0</td>\n",
       "      <td>0</td>\n",
       "    </tr>\n",
       "    <tr>\n",
       "      <th>4</th>\n",
       "      <td>0</td>\n",
       "      <td>1</td>\n",
       "      <td>0</td>\n",
       "      <td>0</td>\n",
       "      <td>0</td>\n",
       "      <td>0</td>\n",
       "      <td>0</td>\n",
       "      <td>0</td>\n",
       "      <td>1</td>\n",
       "      <td>0</td>\n",
       "      <td>0</td>\n",
       "      <td>0</td>\n",
       "      <td>0</td>\n",
       "      <td>0</td>\n",
       "      <td>0</td>\n",
       "      <td>1</td>\n",
       "      <td>0</td>\n",
       "      <td>0</td>\n",
       "    </tr>\n",
       "  </tbody>\n",
       "</table>\n",
       "</div>"
      ],
      "text/plain": [
       "   browser_Android Webview  browser_Chrome  browser_Edge  browser_Firefox  \\\n",
       "0                        0               0             0                1   \n",
       "1                        0               1             0                0   \n",
       "2                        0               1             0                0   \n",
       "3                        0               1             0                0   \n",
       "4                        0               1             0                0   \n",
       "\n",
       "   browser_Internet Explorer  browser_Opera Mini  browser_Safari  \\\n",
       "0                          0                   0               0   \n",
       "1                          0                   0               0   \n",
       "2                          0                   0               0   \n",
       "3                          0                   0               0   \n",
       "4                          0                   0               0   \n",
       "\n",
       "   browser_other  device_desktop  device_mobile  device_tablet  OS_Android  \\\n",
       "0              0               1              0              0           0   \n",
       "1              0               1              0              0           0   \n",
       "2              0               0              1              0           1   \n",
       "3              0               1              0              0           0   \n",
       "4              0               1              0              0           0   \n",
       "\n",
       "   OS_Chrome OS  OS_Linux  OS_Macintosh  OS_Windows  OS_iOS  OS_other  \n",
       "0             0         0             0           1       0         0  \n",
       "1             1         0             0           0       0         0  \n",
       "2             0         0             0           0       0         0  \n",
       "3             0         0             0           1       0         0  \n",
       "4             0         0             0           1       0         0  "
      ]
     },
     "execution_count": 10,
     "metadata": {},
     "output_type": "execute_result"
    }
   ],
   "source": [
    "p = c['browser'].isin(c['browser'].value_counts().index[c['browser'].value_counts()<150])\n",
    "c['browser'] [p] = 'other'\n",
    "p = c['deviceCategory'].isin(c['deviceCategory'].value_counts().index[c['deviceCategory'].value_counts()<150])\n",
    "c['deviceCategory'] [p] = 'other'\n",
    "p = c['operatingSystem'].isin(c['operatingSystem'].value_counts().index[c['operatingSystem'].value_counts()<150])\n",
    "c['operatingSystem'] [p] = 'other'\n",
    "browsers = pd.get_dummies(c['browser'], prefix= 'browser')\n",
    "deviceCategories = pd.get_dummies(c['deviceCategory'], prefix= 'device')\n",
    "operatingSystems = pd.get_dummies(c['operatingSystem'], prefix= 'OS')\n",
    "device_info = pd.concat([browsers.copy(), deviceCategories.copy(), operatingSystems.copy()], axis = 1)\n",
    "\n",
    "device_info.head()"
   ]
  },
  {
   "cell_type": "markdown",
   "metadata": {},
   "source": [
    "Visualizing Device data\n",
    "\n",
    "Google Chrome is the most widely used browser. The dataset contains more Desktop users over mobile users. Therefore Windows and Mac are the most common OS seen in this dataset."
   ]
  },
  {
   "cell_type": "code",
   "execution_count": 11,
   "metadata": {},
   "outputs": [
    {
     "data": {
      "image/png": "[encoded data removed]",
      "text/plain": [
       "<Figure size 432x288 with 1 Axes>"
      ]
     },
     "metadata": {},
     "output_type": "display_data"
    },
    {
     "data": {
      "image/png": "[encoded data removed]",
      "text/plain": [
       "<Figure size 432x288 with 1 Axes>"
      ]
     },
     "metadata": {},
     "output_type": "display_data"
    },
    {
     "data": {
      "image/png": "[encoded data removed]",
      "text/plain": [
       "<Figure size 432x288 with 1 Axes>"
      ]
     },
     "metadata": {},
     "output_type": "display_data"
    }
   ],
   "source": [
    "for i in c[['browser', 'operatingSystem', 'deviceCategory']]:\n",
    "    plt.figure()\n",
    "    plt.xlabel('No. of Users')\n",
    "    plt.title(str.capitalize(i))\n",
    "    c[i].value_counts().plot(kind='barh', grid = True)\n",
    "    plt.gca().invert_yaxis()    "
   ]
  },
  {
   "cell_type": "markdown",
   "metadata": {},
   "source": [
    "Channel Grouping COLUMN\n",
    "\n",
    "This column is converted into a one-hot vector using pd.get_dummies method."
   ]
  },
  {
   "cell_type": "code",
   "execution_count": 12,
   "metadata": {},
   "outputs": [
    {
     "data": {
      "image/png": "[encoded data removed]",
      "text/plain": [
       "<Figure size 432x288 with 1 Axes>"
      ]
     },
     "metadata": {},
     "output_type": "display_data"
    }
   ],
   "source": [
    "df['channelGrouping'].value_counts().plot(kind='barh', grid = True)\n",
    "plt.gca().invert_yaxis()"
   ]
  },
  {
   "cell_type": "markdown",
   "metadata": {},
   "source": [
    " Custom Dimensions COLUMN\n",
    " \n",
    "We will not be including the Custom Dimensions column for analysis because the data contained here is already available in a more granular level in the geoNetwork column. "
   ]
  },
  {
   "cell_type": "code",
   "execution_count": 13,
   "metadata": {},
   "outputs": [
    {
     "data": {
      "image/png": "[encoded data removed]",
      "text/plain": [
       "<Figure size 432x288 with 1 Axes>"
      ]
     },
     "metadata": {},
     "output_type": "display_data"
    }
   ],
   "source": [
    "df['customDimensions'].value_counts().plot(kind='barh', grid = True)\n",
    "plt.gca().invert_yaxis()"
   ]
  },
  {
   "cell_type": "code",
   "execution_count": 14,
   "metadata": {},
   "outputs": [],
   "source": [
    "def todict(dic, key, value):\n",
    "    if key in dic:\n",
    "        dic[key].append(value)\n",
    "    else:\n",
    "        dic[key] = [value]\n",
    "    return dic\n",
    "\n",
    "def resolve_json(hitsdic, hits_json, key='NoneName'):\n",
    "    if type(hits_json) == list:\n",
    "        if len(hits_json) == 0:\n",
    "            pass\n",
    "        else:\n",
    "            for subjson in hits_json:\n",
    "                hitsdic = resolve_json(hitsdic, subjson)\n",
    "    elif type(hits_json) == dict:\n",
    "        for i in hits_json.keys():\n",
    "            hitsdic = resolve_json(hitsdic, hits_json[i],i)\n",
    "    else:\n",
    "        hitsdic = todict(hitsdic, key, hits_json)\n",
    "    return hitsdic\n",
    "\n",
    "def complex_replace(x):\n",
    "    dic = {}\n",
    "    return resolve_json(dic, json.loads(x.replace('\\'','\\\"'). \\\n",
    "                                        replace('TRUE','true'). \\\n",
    "                                        replace('True','true'). \\\n",
    "                                        replace('FALSE','false'). \\\n",
    "                                        replace('False','false'). \\\n",
    "                                        replace(', \\\"',', !&~'). \\\n",
    "                                        replace('\\\", ','!&~, '). \\\n",
    "                                        replace('\\\": ','!&~: '). \\\n",
    "                                        replace(': \\\"',': !&~'). \\\n",
    "                                        replace(' {\\\"',' {!&~'). \\\n",
    "                                        replace('\\\"}, ','!&~}, '). \\\n",
    "                                        replace('[{\\\"','[{!&~'). \\\n",
    "                                        replace('\\\"}]','!&~}]'). \\\n",
    "                                        replace('\\\"','_'). \\\n",
    "                                        replace('!&~','\\\"'). \\\n",
    "                                        encode('gbk','ignore'). \\\n",
    "                                        decode('utf-8','ignore'). \\\n",
    "                                        replace('\\\\','')))\n",
    "def replace(x):\n",
    "    return  json.loads(x.replace('\\'','\\\"').replace('False', 'false').replace('True'))"
   ]
  },
  {
   "cell_type": "code",
   "execution_count": 15,
   "metadata": {},
   "outputs": [],
   "source": [
    "d['type'] = d['type'].map({'PAGE': 1, 'EVENT': 0})\n",
    "d['type'] = d['type'].fillna(0)\n",
    "d['Source_Web'] = d['dataSource'] == 'web'\n",
    "d['Source_Web'] = d['Source_Web'].map({True: 1, False: 0})\n",
    "\n",
    "hits = d[['type', 'Source_Web']]"
   ]
  },
  {
   "cell_type": "markdown",
   "metadata": {},
   "source": [
    "### Creating final dataframe for analysis ###"
   ]
  },
  {
   "cell_type": "code",
   "execution_count": 16,
   "metadata": {},
   "outputs": [
    {
     "data": {
      "text/html": [
       "<div>\n",
       "<style scoped>\n",
       "    .dataframe tbody tr th:only-of-type {\n",
       "        vertical-align: middle;\n",
       "    }\n",
       "\n",
       "    .dataframe tbody tr th {\n",
       "        vertical-align: top;\n",
       "    }\n",
       "\n",
       "    .dataframe thead th {\n",
       "        text-align: right;\n",
       "    }\n",
       "</style>\n",
       "<table border=\"1\" class=\"dataframe\">\n",
       "  <thead>\n",
       "    <tr style=\"text-align: right;\">\n",
       "      <th></th>\n",
       "      <th>cg_Affiliates</th>\n",
       "      <th>cg_Direct</th>\n",
       "      <th>cg_Display</th>\n",
       "      <th>cg_Organic Search</th>\n",
       "      <th>cg_Paid Search</th>\n",
       "      <th>cg_Referral</th>\n",
       "      <th>cg_Social</th>\n",
       "      <th>totals_bounces</th>\n",
       "      <th>totals_hits</th>\n",
       "      <th>totals_newVisits</th>\n",
       "      <th>...</th>\n",
       "      <th>source_yahoo</th>\n",
       "      <th>source_youtube</th>\n",
       "      <th>medium_(none)</th>\n",
       "      <th>medium_affiliate</th>\n",
       "      <th>medium_cpc</th>\n",
       "      <th>medium_cpm</th>\n",
       "      <th>medium_organic</th>\n",
       "      <th>medium_referral</th>\n",
       "      <th>type</th>\n",
       "      <th>Source_Web</th>\n",
       "    </tr>\n",
       "  </thead>\n",
       "  <tbody>\n",
       "    <tr>\n",
       "      <th>0</th>\n",
       "      <td>0</td>\n",
       "      <td>0</td>\n",
       "      <td>0</td>\n",
       "      <td>1</td>\n",
       "      <td>0</td>\n",
       "      <td>0</td>\n",
       "      <td>0</td>\n",
       "      <td>1.0</td>\n",
       "      <td>1</td>\n",
       "      <td>1.0</td>\n",
       "      <td>...</td>\n",
       "      <td>0</td>\n",
       "      <td>0</td>\n",
       "      <td>0</td>\n",
       "      <td>0</td>\n",
       "      <td>0</td>\n",
       "      <td>0</td>\n",
       "      <td>1</td>\n",
       "      <td>0</td>\n",
       "      <td>1.0</td>\n",
       "      <td>1</td>\n",
       "    </tr>\n",
       "    <tr>\n",
       "      <th>1</th>\n",
       "      <td>0</td>\n",
       "      <td>0</td>\n",
       "      <td>0</td>\n",
       "      <td>0</td>\n",
       "      <td>0</td>\n",
       "      <td>1</td>\n",
       "      <td>0</td>\n",
       "      <td>0.0</td>\n",
       "      <td>2</td>\n",
       "      <td>0.0</td>\n",
       "      <td>...</td>\n",
       "      <td>0</td>\n",
       "      <td>0</td>\n",
       "      <td>0</td>\n",
       "      <td>0</td>\n",
       "      <td>0</td>\n",
       "      <td>0</td>\n",
       "      <td>0</td>\n",
       "      <td>1</td>\n",
       "      <td>1.0</td>\n",
       "      <td>1</td>\n",
       "    </tr>\n",
       "    <tr>\n",
       "      <th>2</th>\n",
       "      <td>0</td>\n",
       "      <td>1</td>\n",
       "      <td>0</td>\n",
       "      <td>0</td>\n",
       "      <td>0</td>\n",
       "      <td>0</td>\n",
       "      <td>0</td>\n",
       "      <td>0.0</td>\n",
       "      <td>2</td>\n",
       "      <td>1.0</td>\n",
       "      <td>...</td>\n",
       "      <td>0</td>\n",
       "      <td>0</td>\n",
       "      <td>1</td>\n",
       "      <td>0</td>\n",
       "      <td>0</td>\n",
       "      <td>0</td>\n",
       "      <td>0</td>\n",
       "      <td>0</td>\n",
       "      <td>1.0</td>\n",
       "      <td>1</td>\n",
       "    </tr>\n",
       "    <tr>\n",
       "      <th>3</th>\n",
       "      <td>0</td>\n",
       "      <td>0</td>\n",
       "      <td>0</td>\n",
       "      <td>1</td>\n",
       "      <td>0</td>\n",
       "      <td>0</td>\n",
       "      <td>0</td>\n",
       "      <td>0.0</td>\n",
       "      <td>2</td>\n",
       "      <td>1.0</td>\n",
       "      <td>...</td>\n",
       "      <td>0</td>\n",
       "      <td>0</td>\n",
       "      <td>0</td>\n",
       "      <td>0</td>\n",
       "      <td>0</td>\n",
       "      <td>0</td>\n",
       "      <td>1</td>\n",
       "      <td>0</td>\n",
       "      <td>1.0</td>\n",
       "      <td>1</td>\n",
       "    </tr>\n",
       "    <tr>\n",
       "      <th>4</th>\n",
       "      <td>0</td>\n",
       "      <td>0</td>\n",
       "      <td>0</td>\n",
       "      <td>1</td>\n",
       "      <td>0</td>\n",
       "      <td>0</td>\n",
       "      <td>0</td>\n",
       "      <td>0.0</td>\n",
       "      <td>2</td>\n",
       "      <td>1.0</td>\n",
       "      <td>...</td>\n",
       "      <td>0</td>\n",
       "      <td>0</td>\n",
       "      <td>0</td>\n",
       "      <td>0</td>\n",
       "      <td>0</td>\n",
       "      <td>0</td>\n",
       "      <td>1</td>\n",
       "      <td>0</td>\n",
       "      <td>1.0</td>\n",
       "      <td>1</td>\n",
       "    </tr>\n",
       "  </tbody>\n",
       "</table>\n",
       "<p>5 rows × 114 columns</p>\n",
       "</div>"
      ],
      "text/plain": [
       "   cg_Affiliates  cg_Direct  cg_Display  cg_Organic Search  cg_Paid Search  \\\n",
       "0              0          0           0                  1               0   \n",
       "1              0          0           0                  0               0   \n",
       "2              0          1           0                  0               0   \n",
       "3              0          0           0                  1               0   \n",
       "4              0          0           0                  1               0   \n",
       "\n",
       "   cg_Referral  cg_Social  totals_bounces  totals_hits  totals_newVisits  \\\n",
       "0            0          0             1.0            1               1.0   \n",
       "1            1          0             0.0            2               0.0   \n",
       "2            0          0             0.0            2               1.0   \n",
       "3            0          0             0.0            2               1.0   \n",
       "4            0          0             0.0            2               1.0   \n",
       "\n",
       "      ...      source_yahoo  source_youtube  medium_(none)  medium_affiliate  \\\n",
       "0     ...                 0               0              0                 0   \n",
       "1     ...                 0               0              0                 0   \n",
       "2     ...                 0               0              1                 0   \n",
       "3     ...                 0               0              0                 0   \n",
       "4     ...                 0               0              0                 0   \n",
       "\n",
       "   medium_cpc  medium_cpm  medium_organic  medium_referral  type  Source_Web  \n",
       "0           0           0               1                0   1.0           1  \n",
       "1           0           0               0                1   1.0           1  \n",
       "2           0           0               0                0   1.0           1  \n",
       "3           0           0               1                0   1.0           1  \n",
       "4           0           0               1                0   1.0           1  \n",
       "\n",
       "[5 rows x 114 columns]"
      ]
     },
     "execution_count": 16,
     "metadata": {},
     "output_type": "execute_result"
    }
   ],
   "source": [
    "df_final = pd.concat([df1, device_info, geo_network, trafficSource, hits], axis=1).fillna(0)\n",
    "df_final.head()"
   ]
  },
  {
   "cell_type": "markdown",
   "metadata": {},
   "source": [
    "### Summary of df_final###\n",
    "\n",
    "df_final includes data from the following columns of 'data.csv'\n",
    "\n",
    "**channelGrouping** - transformed into one-hot vectors.\n",
    "\n",
    "**device** - transformed select data into one-hot vectors. Redundant / Data-Unavailable columns have been excluded.\n",
    "\n",
    "**trafficSource** - transformed select data into one-hot vectors. Redundant / Data-Unavailable columns have been excluded.\n",
    "\n",
    "**geoNetwork** - transformed select data into one-hot vectors. Redundant / Data-Unavailable columns have been excluded.\n",
    "\n",
    "**hits** - selective columns within hits have be transformed appropriately and used in df_final.\n",
    "\n",
    "**socialEngagementType **- All values are 'Not socially Engaged'. Therefore the column has been excluded.\n",
    "\n",
    "**totals_bounces', 'totals_hits', 'totals_newVisits', 'totals_pageviews', 'totals_sessionQualityDim', 'totals_timeOnSite, \n",
    "totals_transactions,totals_visits** - The above columns have all been included.\n",
    "\n",
    "**totals_transactionRevenue ** - value to be predicted, hence included in the dataframe.\n",
    "\n",
    "**visitId', 'visitNumber', 'visitStartTime', 'date' **- have been exluded for analysis as these values cannot be used in \n",
    "prediction.\n",
    "\n",
    "**customDimensions** - the data contained here is already available in a more granular level in the geoNetwork column. Therefore this column has been exlcluded from the df_final dataframe."
   ]
  },
  {
   "cell_type": "markdown",
   "metadata": {},
   "source": [
    "## CLASSIFICATION USING LINEAR SUPPORT VECTOR MACHINE ##"
   ]
  },
  {
   "cell_type": "markdown",
   "metadata": {},
   "source": [
    "Convert y variable, 'totals_transactionRevenue' to binary values so that we can train a classification model to predict whether a particular record will generate revenue.\n",
    "\n",
    "Drop original y variable, 'totals_transactionRevenue' from the dataframe because it has been converted into binary values for classification purpose in the 'totals_transactionRevenue_binary' column."
   ]
  },
  {
   "cell_type": "code",
   "execution_count": 17,
   "metadata": {},
   "outputs": [
    {
     "data": {
      "text/plain": [
       "0    19807\n",
       "1      193\n",
       "Name: totals_transactionRevenue_binary, dtype: int64"
      ]
     },
     "execution_count": 17,
     "metadata": {},
     "output_type": "execute_result"
    }
   ],
   "source": [
    "df_classification = df_final.copy()\n",
    "\n",
    "df_classification['totals_transactionRevenue_binary'] = np.where(df_classification['totals_transactionRevenue']==0, 0, 1)\n",
    "df_classification = df_classification.drop('totals_transactionRevenue', axis = 1)\n",
    "\n",
    "df_classification['totals_transactionRevenue_binary'].value_counts()"
   ]
  },
  {
   "cell_type": "markdown",
   "metadata": {},
   "source": [
    "### EVALUATION STRATEGY ####\n",
    "\n",
    "The y-variable for classification contains 19,807 zeros and only 193 ones, resulting in an imbalanced or one-sided datset. The **ROC_AUC_score** will be a suitable evalution method for our classification model as the Receiver Operating Characteristic curve plots the True Positives against the True Negatives. The higher the area under the ROC curve, the better the model will be at distinguishing between 1's and 0's or positive revenue and no revenue in this scenario."
   ]
  },
  {
   "cell_type": "markdown",
   "metadata": {},
   "source": [
    "Separating feature set (X) and response variable (y) "
   ]
  },
  {
   "cell_type": "code",
   "execution_count": 18,
   "metadata": {},
   "outputs": [],
   "source": [
    "X = df_classification.drop('totals_transactionRevenue_binary', axis = 1)\n",
    "y = df_classification['totals_transactionRevenue_binary']"
   ]
  },
  {
   "cell_type": "markdown",
   "metadata": {},
   "source": [
    "Splitting dataset into Train and Test\n",
    "Feature Scaling using MinMax Scaler to shrink the range of all features such that it is between 0 and 1)"
   ]
  },
  {
   "cell_type": "code",
   "execution_count": 19,
   "metadata": {},
   "outputs": [],
   "source": [
    "from sklearn.model_selection import train_test_split\n",
    "X_train1, X_test1, y_train, y_test = train_test_split(X, y, random_state = 0)\n",
    "from sklearn.preprocessing import MinMaxScaler\n",
    "scaler = MinMaxScaler()\n",
    "X_train = scaler.fit_transform(X_train1)\n",
    "X_test = scaler.transform(X_test1)"
   ]
  },
  {
   "cell_type": "markdown",
   "metadata": {},
   "source": [
    "Importing Packages for Classification using Linear SVC"
   ]
  },
  {
   "cell_type": "code",
   "execution_count": 20,
   "metadata": {},
   "outputs": [],
   "source": [
    "from sklearn.svm import LinearSVC\n",
    "from sklearn.metrics import roc_auc_score\n",
    "from sklearn.model_selection import GridSearchCV\n",
    "from sklearn.metrics import confusion_matrix"
   ]
  },
  {
   "cell_type": "markdown",
   "metadata": {},
   "source": [
    "Using Grid Search Cross Validation to find optimal parameters for Classification Model"
   ]
  },
  {
   "cell_type": "code",
   "execution_count": 21,
   "metadata": {},
   "outputs": [
    {
     "name": "stdout",
     "output_type": "stream",
     "text": [
      "Best Parameters : {'C': 1, 'dual': False, 'loss': 'squared_hinge', 'penalty': 'l1'}\n",
      "Best cross_val score : 0.9999059880725855\n"
     ]
    }
   ],
   "source": [
    "c_range = [10**-1, 10**0, 10**1]\n",
    "\n",
    "grid_search_param = {'penalty': ['l1','l2'], 'loss': ['squared_hinge', 'hinge'], 'C': c_range, 'dual': [True, False]}\n",
    "\n",
    "grid_search_linearSVC = GridSearchCV(LinearSVC(random_state = 0), grid_search_param, cv=5, scoring='roc_auc', n_jobs = -1, error_score=0.0)\n",
    "grid_search_linearSVC.fit(X_train, y_train)\n",
    "print(\"Best Parameters : {}\".format(grid_search_linearSVC.best_params_))\n",
    "print(\"Best cross_val score : {}\".format(grid_search_linearSVC.best_score_))"
   ]
  },
  {
   "cell_type": "markdown",
   "metadata": {},
   "source": [
    "Predicting Y-variable, totals_transactionRevenue_binary using the model.\n",
    "\n",
    "Computing Classification metrics"
   ]
  },
  {
   "cell_type": "code",
   "execution_count": 22,
   "metadata": {},
   "outputs": [],
   "source": [
    "y_hat = grid_search_linearSVC.best_estimator_.predict(scaler.fit_transform(X))"
   ]
  },
  {
   "cell_type": "code",
   "execution_count": 23,
   "metadata": {},
   "outputs": [
    {
     "name": "stdout",
     "output_type": "stream",
     "text": [
      "Sensitivity or True Positive Rate, TPR = 1.0\n",
      "Specificity or True Negative Rate, TNR = 0.99985\n",
      "Precision or Positive Predictive Value, PPV = 0.98469\n",
      "Miss Rate or False Negative Rate, FNR = 0.0\n",
      "Prediction Accuracy = 0.99985\n",
      "ROC_AUC_Score =  0.99992\n"
     ]
    }
   ],
   "source": [
    "true_negatives, false_positives, false_negatives, true_postives = confusion_matrix(y, y_hat).ravel()\n",
    "values = [true_negatives, false_positives, false_negatives, true_postives]\n",
    "\n",
    "true_positive_rate = true_postives/(true_postives+false_negatives)\n",
    "print('Sensitivity or True Positive Rate, TPR =', true_positive_rate)\n",
    "\n",
    "true_negative_rate = true_negatives/(true_negatives+false_positives)\n",
    "print('Specificity or True Negative Rate, TNR =',\"%.5f\" %true_negative_rate)\n",
    "\n",
    "precision = true_postives/(true_postives+false_positives)\n",
    "print('Precision or Positive Predictive Value, PPV =',\"%.5f\" % precision)\n",
    "\n",
    "miss_rate = false_negatives / (false_negatives+true_postives)\n",
    "print('Miss Rate or False Negative Rate, FNR =', miss_rate)\n",
    "\n",
    "accuracy = (true_postives+true_negatives) / (true_postives+false_positives+true_negatives+false_negatives)\n",
    "print('Prediction Accuracy =',\"%.5f\"%  accuracy)\n",
    "\n",
    "ROC_AUC_Score = roc_auc_score(y, y_hat)\n",
    "print ('ROC_AUC_Score = ',\"%.5f\"% roc_auc_score(y, y_hat))"
   ]
  },
  {
   "cell_type": "markdown",
   "metadata": {},
   "source": [
    "Defining plot for confusion matrix"
   ]
  },
  {
   "cell_type": "code",
   "execution_count": 24,
   "metadata": {},
   "outputs": [],
   "source": [
    "def plot_confusion_matrix(cm, classes,\n",
    "                          normalize=False,\n",
    "                          title='Confusion matrix',\n",
    "                          cmap=plt.cm.Reds):\n",
    "    print(cm)\n",
    "\n",
    "    plt.imshow(cm, interpolation='nearest', cmap=cmap)\n",
    "    plt.title(title)\n",
    "    plt.colorbar()\n",
    "    tick_marks = np.arange(len(classes))\n",
    "    plt.xticks(tick_marks, classes)\n",
    "    plt.yticks(tick_marks, classes)\n",
    "\n",
    "    fmt = '.2f' if normalize else 'd'\n",
    "    thresh = cm.max() / 2.\n",
    "    for i, j in itertools.product(range(cm.shape[0]), range(cm.shape[1])):\n",
    "        plt.text(j, i, format(cm[i, j], fmt),\n",
    "                 horizontalalignment=\"center\",\n",
    "                 color=\"white\" if cm[i, j] > thresh else \"black\")\n",
    "\n",
    "    plt.ylabel('True label')\n",
    "    plt.xlabel('Predicted label')\n",
    "    plt.tight_layout()"
   ]
  },
  {
   "cell_type": "markdown",
   "metadata": {},
   "source": [
    "Visualizing Confusion Matrix"
   ]
  },
  {
   "cell_type": "code",
   "execution_count": 25,
   "metadata": {},
   "outputs": [
    {
     "name": "stdout",
     "output_type": "stream",
     "text": [
      "[[19804     3]\n",
      " [    0   193]]\n"
     ]
    },
    {
     "data": {
      "image/png": "[encoded data removed]",
      "text/plain": [
       "<Figure size 432x288 with 2 Axes>"
      ]
     },
     "metadata": {},
     "output_type": "display_data"
    }
   ],
   "source": [
    "import itertools\n",
    "# Compute confusion matrix\n",
    "cnf_matrix = confusion_matrix(y, y_hat)\n",
    "np.set_printoptions(precision=2)\n",
    "\n",
    "# Plot non-normalized confusion matrix\n",
    "plt.figure()\n",
    "plot_confusion_matrix(cnf_matrix, classes=[0,1],\n",
    "                      title='Confusion matrix')\n",
    "plt.show()"
   ]
  },
  {
   "cell_type": "markdown",
   "metadata": {},
   "source": [
    "### INTERPRETATION\n",
    "Out of the 19807 0-revenue category, the model has predicted 19804 correctly (True Negative) while wrongly pedicting the remaining 3 as records with revenue. The model has predicted all the 193 records with revenue accurately, therefore there are no false negatives."
   ]
  },
  {
   "cell_type": "markdown",
   "metadata": {},
   "source": [
    "### CLASSIFICATION EVALUATION ###\n",
    "\n",
    "An **ROC_AUC score** > 0.999 along with a **zero miss rate** (0 False Negatives) indicates that the Linear Suppot Vector Classification with the parameters: 'C': 0.1, 'dual': False, 'loss': 'squared_hinge', 'penalty': 'l1'is a good classifier of this biased datset."
   ]
  },
  {
   "cell_type": "markdown",
   "metadata": {},
   "source": [
    "#### DATA PREPROCESSING FOR REGRESSION MODEL ON RECORS WITH POSITIVE REVENUE"
   ]
  },
  {
   "cell_type": "markdown",
   "metadata": {},
   "source": [
    "Append y-hat to our original df_final"
   ]
  },
  {
   "cell_type": "code",
   "execution_count": 26,
   "metadata": {},
   "outputs": [],
   "source": [
    "df_final['totals_transactionRevenue_predicted'] = y_hat"
   ]
  },
  {
   "cell_type": "markdown",
   "metadata": {},
   "source": [
    "SELECTING ONLY RECORDS PREDICTED TO HAVE POSITIVE REVENUE FOR REGRESSION (196 Records)"
   ]
  },
  {
   "cell_type": "code",
   "execution_count": 27,
   "metadata": {},
   "outputs": [
    {
     "data": {
      "text/plain": [
       "(196, 115)"
      ]
     },
     "execution_count": 27,
     "metadata": {},
     "output_type": "execute_result"
    }
   ],
   "source": [
    "df_regression = df_final[df_final['totals_transactionRevenue_predicted']==1]\n",
    "df_regression.shape"
   ]
  },
  {
   "cell_type": "markdown",
   "metadata": {},
   "source": [
    "SEPARATING FEATURE SET FROM TARGET VARIABLE"
   ]
  },
  {
   "cell_type": "code",
   "execution_count": 28,
   "metadata": {},
   "outputs": [],
   "source": [
    "X = df_regression.drop(['totals_transactionRevenue', 'totals_transactionRevenue_predicted'], axis=1)\n",
    "y = df_regression['totals_transactionRevenue']"
   ]
  },
  {
   "cell_type": "markdown",
   "metadata": {},
   "source": [
    "TRAIN-TEST SPLIT, FOLLOWED BY FEATURE SCALING"
   ]
  },
  {
   "cell_type": "code",
   "execution_count": 29,
   "metadata": {},
   "outputs": [],
   "source": [
    "X_train1, X_test1, y_train, y_test = train_test_split(X, y, test_size = 0.05, random_state = 0)\n",
    "scaler = MinMaxScaler()\n",
    "X_train = scaler.fit_transform(X_train1)\n",
    "X_test = scaler.transform(X_test1)"
   ]
  },
  {
   "cell_type": "markdown",
   "metadata": {},
   "source": [
    "### REGRESSION USING LASSO (Least absolute shrinkage and selection operator)"
   ]
  },
  {
   "cell_type": "markdown",
   "metadata": {},
   "source": [
    "IMPORTING LASSO"
   ]
  },
  {
   "cell_type": "code",
   "execution_count": 30,
   "metadata": {},
   "outputs": [],
   "source": [
    "from sklearn.linear_model import Lasso"
   ]
  },
  {
   "cell_type": "markdown",
   "metadata": {},
   "source": [
    "USING GRID SEARCH CROSS VALIDATION TO FIND OPTIMAL PARAMETERS FOR LASSO REGRESSION"
   ]
  },
  {
   "cell_type": "code",
   "execution_count": 31,
   "metadata": {},
   "outputs": [
    {
     "name": "stdout",
     "output_type": "stream",
     "text": [
      "Best parameters: {'alpha': 100, 'fit_intercept': True, 'normalize': True}\n",
      "Best cross-validation score: -0.3198\n",
      "Lasso Regression - Train Accuracy: 0.3286\n",
      "Lasso Regression - Test Accuracy: -0.4081 \n"
     ]
    }
   ],
   "source": [
    "a_range = [10**-2, 10**-1, 10**0, 10**1, 10**2]\n",
    "\n",
    "lassoreg = Lasso(random_state=0)\n",
    "lasso_param = {'alpha':a_range ,'fit_intercept':[True,False],'normalize':[True,False]}\n",
    "\n",
    "grid_search_lasso = GridSearchCV(lassoreg, lasso_param, cv=2, return_train_score=True, n_jobs = -1)\n",
    "grid_search_lasso.fit(X_train, y_train)\n",
    "print(\"Best parameters: {}\".format(grid_search_lasso.best_params_))\n",
    "print(\"Best cross-validation score: {:.4f}\".format(grid_search_lasso.best_score_))\n",
    "\n",
    "lassoreg_accuracy_train = grid_search_lasso.best_estimator_.score(X_train, y_train)\n",
    "lassoreg_accuracy_test = grid_search_lasso.best_estimator_.score(X_test, y_test)\n",
    "\n",
    "print('Lasso Regression - Train Accuracy: %.4f'%lassoreg_accuracy_train)\n",
    "print('Lasso Regression - Test Accuracy: %.4f '%lassoreg_accuracy_test)"
   ]
  },
  {
   "cell_type": "markdown",
   "metadata": {},
   "source": [
    "COMPUTING R-square using the model with best parameters for revenue-positive records"
   ]
  },
  {
   "cell_type": "code",
   "execution_count": 32,
   "metadata": {},
   "outputs": [
    {
     "data": {
      "text/plain": [
       "0.31917780361685877"
      ]
     },
     "execution_count": 32,
     "metadata": {},
     "output_type": "execute_result"
    }
   ],
   "source": [
    "grid_search_lasso.best_estimator_.score(scaler.fit_transform(X), y)"
   ]
  },
  {
   "cell_type": "code",
   "execution_count": 33,
   "metadata": {},
   "outputs": [
    {
     "data": {
      "text/html": [
       "<div>\n",
       "<style scoped>\n",
       "    .dataframe tbody tr th:only-of-type {\n",
       "        vertical-align: middle;\n",
       "    }\n",
       "\n",
       "    .dataframe tbody tr th {\n",
       "        vertical-align: top;\n",
       "    }\n",
       "\n",
       "    .dataframe thead th {\n",
       "        text-align: right;\n",
       "    }\n",
       "</style>\n",
       "<table border=\"1\" class=\"dataframe\">\n",
       "  <thead>\n",
       "    <tr style=\"text-align: right;\">\n",
       "      <th></th>\n",
       "      <th>Revenue</th>\n",
       "      <th>lasso_predicted</th>\n",
       "    </tr>\n",
       "  </thead>\n",
       "  <tbody>\n",
       "    <tr>\n",
       "      <th>433</th>\n",
       "      <td>15190000.0</td>\n",
       "      <td>4.680712e+07</td>\n",
       "    </tr>\n",
       "    <tr>\n",
       "      <th>550</th>\n",
       "      <td>8000000.0</td>\n",
       "      <td>7.205607e+07</td>\n",
       "    </tr>\n",
       "    <tr>\n",
       "      <th>555</th>\n",
       "      <td>57300000.0</td>\n",
       "      <td>5.259283e+06</td>\n",
       "    </tr>\n",
       "    <tr>\n",
       "      <th>597</th>\n",
       "      <td>18230000.0</td>\n",
       "      <td>6.237651e+07</td>\n",
       "    </tr>\n",
       "    <tr>\n",
       "      <th>619</th>\n",
       "      <td>12310000.0</td>\n",
       "      <td>2.345216e+07</td>\n",
       "    </tr>\n",
       "  </tbody>\n",
       "</table>\n",
       "</div>"
      ],
      "text/plain": [
       "        Revenue  lasso_predicted\n",
       "433  15190000.0     4.680712e+07\n",
       "550   8000000.0     7.205607e+07\n",
       "555  57300000.0     5.259283e+06\n",
       "597  18230000.0     6.237651e+07\n",
       "619  12310000.0     2.345216e+07"
      ]
     },
     "execution_count": 33,
     "metadata": {},
     "output_type": "execute_result"
    }
   ],
   "source": [
    "df_regression['lasso_predicted_revenue'] = grid_search_lasso.best_estimator_.predict(scaler.fit_transform(X))\n",
    "df_regression['lasso_predicted'] = grid_search_lasso.best_estimator_.predict(scaler.fit_transform(X))\n",
    "df_regression1 = df_regression[['totals_transactionRevenue', 'lasso_predicted']].rename(index=str, columns={\"totals_transactionRevenue\": \"Revenue\"}).copy()\n",
    "df_regression1.index = df_regression1.index.astype(int)\n",
    "df_regression1.head(2)"
   ]
  },
  {
   "cell_type": "markdown",
   "metadata": {},
   "source": [
    "MERGING PREDICTED REVENUE USING LASSO MODEL (196 RECORDS) ON CLASSIFICATION OUTPUT (WHERE PREDICTED VALUE IS 1, i.e. POSITIVE REVENUE) TO COMPUTE R-SQUARE FOR WHOLE DATASET (20,000 RECORDS)"
   ]
  },
  {
   "cell_type": "code",
   "execution_count": 34,
   "metadata": {},
   "outputs": [],
   "source": [
    "df_classification1 = df_final[['totals_transactionRevenue','totals_transactionRevenue_predicted']].copy()\n",
    "df_classification1.index = df_classification1.index.astype(int)\n",
    "df_reg_comparison1 = df_classification1.join(df_regression1)\n",
    "df_reg_comparison1['predicted_transactionRevenue_final'] = np.where(df_reg_comparison1['totals_transactionRevenue_predicted']==1, df_reg_comparison1['lasso_predicted'], df_reg_comparison1['totals_transactionRevenue_predicted'])\n",
    "df_reg_comparison1 = df_reg_comparison1[['totals_transactionRevenue','predicted_transactionRevenue_final']]"
   ]
  },
  {
   "cell_type": "markdown",
   "metadata": {},
   "source": [
    "COMPUTING R-SQUARE"
   ]
  },
  {
   "cell_type": "code",
   "execution_count": 35,
   "metadata": {},
   "outputs": [
    {
     "data": {
      "text/plain": [
       "0.5113172921232161"
      ]
     },
     "execution_count": 35,
     "metadata": {},
     "output_type": "execute_result"
    }
   ],
   "source": [
    "from sklearn.metrics import r2_score\n",
    "r2_score(df_reg_comparison1['totals_transactionRevenue'],df_reg_comparison1['predicted_transactionRevenue_final'])"
   ]
  },
  {
   "cell_type": "markdown",
   "metadata": {},
   "source": [
    "#### SUMMARY ####"
   ]
  },
  {
   "cell_type": "markdown",
   "metadata": {},
   "source": [
    "We have performed a 2-fold machine learning model. First, we have used Classifcation (Linear SVC) to predict if revenue is positive and then used LASSO Regression on records predicted to have positive revenue. Next we aggregated the results (both 0-revenue and predicted positive-revenue) and computed the model accuracy using R-square.\n",
    "\n",
    "The final computed R-square (Model Accuracy) value is 0.511"
   ]
  },
  {
   "cell_type": "markdown",
   "metadata": {},
   "source": [
    "### REGRESSION USING LINEAR SUPPORT VECTOR MACHINE ###"
   ]
  },
  {
   "cell_type": "markdown",
   "metadata": {},
   "source": [
    "IMPORTING LinearSVR"
   ]
  },
  {
   "cell_type": "code",
   "execution_count": 36,
   "metadata": {},
   "outputs": [],
   "source": [
    "from sklearn.svm import LinearSVR"
   ]
  },
  {
   "cell_type": "markdown",
   "metadata": {},
   "source": [
    "USING GRID SEARCH CROSS VALIDATION TO FIND OPTIMAL PARAMETERS FOR LASSO REGRESSION"
   ]
  },
  {
   "cell_type": "code",
   "execution_count": 37,
   "metadata": {},
   "outputs": [
    {
     "name": "stdout",
     "output_type": "stream",
     "text": [
      "Best parameters: {'C': 0.1, 'epsilon': 0, 'loss': 'squared_epsilon_insensitive'}\n",
      "Best cross-validation score: 0.0055\n",
      "svr_linear Regression - Train Accuracy: 0.2527\n",
      "svr_linear Regression - Test Accuracy: 0.0852 \n"
     ]
    }
   ],
   "source": [
    "e_range = [10**-2, 10**-1, 0, 10**0]\n",
    "C_range = [10**-1, 10**0, 10**1]\n",
    "\n",
    "svr_linearreg = LinearSVR(random_state=0)\n",
    "svr_linear_param = {'epsilon':e_range ,'C':C_range, 'loss': ['squared_epsilon_insensitive']}\n",
    "\n",
    "grid_search_svr_linear = GridSearchCV(svr_linearreg, svr_linear_param, cv=2, return_train_score=True, n_jobs = -1)\n",
    "grid_search_svr_linear.fit(X_train, y_train)\n",
    "print(\"Best parameters: {}\".format(grid_search_svr_linear.best_params_))\n",
    "print(\"Best cross-validation score: {:.4f}\".format(grid_search_svr_linear.best_score_))\n",
    "\n",
    "svr_linearreg_accuracy_train = grid_search_svr_linear.best_estimator_.score(X_train, y_train)\n",
    "svr_linearreg_accuracy_test = grid_search_svr_linear.best_estimator_.score(X_test, y_test)\n",
    "\n",
    "print('svr_linear Regression - Train Accuracy: %.4f'%svr_linearreg_accuracy_train)\n",
    "print('svr_linear Regression - Test Accuracy: %.4f '%svr_linearreg_accuracy_test)"
   ]
  },
  {
   "cell_type": "markdown",
   "metadata": {},
   "source": [
    "COMPUTING R-square using the model with best parameters for revenue-positive records"
   ]
  },
  {
   "cell_type": "code",
   "execution_count": 38,
   "metadata": {},
   "outputs": [
    {
     "data": {
      "text/plain": [
       "0.2519105284785109"
      ]
     },
     "execution_count": 38,
     "metadata": {},
     "output_type": "execute_result"
    }
   ],
   "source": [
    "grid_search_svr_linear.best_estimator_.score(scaler.fit_transform(X), y)"
   ]
  },
  {
   "cell_type": "markdown",
   "metadata": {},
   "source": [
    "MERGING PREDICTED REVENUE USING LINEAR SVR MODEL (196 RECORDS) ON CLASSIFICATION OUTPUT (WHERE PREDICTED VALUE IS 1, i.e. POSITIVE REVENUE) TO COMPUTE R-SQUARE FOR WHOLE DATASET (20,000 RECORDS)"
   ]
  },
  {
   "cell_type": "code",
   "execution_count": 39,
   "metadata": {},
   "outputs": [],
   "source": [
    "df_regression['svr_linear_predicted'] = grid_search_svr_linear.best_estimator_.predict(scaler.fit_transform(X))\n",
    "df_regression2 = df_regression[['totals_transactionRevenue', 'svr_linear_predicted']].rename(index=str, columns={\"totals_transactionRevenue\": \"Revenue\"}).copy()\n",
    "df_regression2.index = df_regression2.index.astype(int)\n",
    "df_reg_comparison2 = df_classification1.join(df_regression2)\n",
    "df_reg_comparison2['predicted_transactionRevenue_final'] = np.where(df_reg_comparison2['totals_transactionRevenue_predicted']==1, df_reg_comparison2['svr_linear_predicted'], df_reg_comparison2['totals_transactionRevenue_predicted'])\n",
    "df_reg_comparison2 = df_reg_comparison2[['totals_transactionRevenue','predicted_transactionRevenue_final']]"
   ]
  },
  {
   "cell_type": "markdown",
   "metadata": {},
   "source": [
    "COMPUTING R-SQUARE"
   ]
  },
  {
   "cell_type": "code",
   "execution_count": 40,
   "metadata": {},
   "outputs": [
    {
     "data": {
      "text/plain": [
       "0.4630339747743776"
      ]
     },
     "execution_count": 40,
     "metadata": {},
     "output_type": "execute_result"
    }
   ],
   "source": [
    "r2_score(df_reg_comparison2['totals_transactionRevenue'],df_reg_comparison2['predicted_transactionRevenue_final'])"
   ]
  },
  {
   "cell_type": "markdown",
   "metadata": {},
   "source": [
    "#### SUMMARY ####"
   ]
  },
  {
   "cell_type": "markdown",
   "metadata": {},
   "source": [
    "We have performed a 2-fold machine learning model. First, we have used Classifcation (Linear SVC) to predict if revenue is positive and then used Linear SVR Regression on records predicted to have positive revenue. Next we aggregated the results (both 0-revenue and predicted positive-revenue) and computed the model accuracy using R-square.\n",
    "\n",
    "The final computed R-square (Model Accuracy) value is 0.463"
   ]
  },
  {
   "cell_type": "code",
   "execution_count": null,
   "metadata": {},
   "outputs": [],
   "source": []
  },
  {
   "cell_type": "markdown",
   "metadata": {},
   "source": [
    "## PART 2 ##"
   ]
  },
  {
   "cell_type": "code",
   "execution_count": 41,
   "metadata": {},
   "outputs": [],
   "source": [
    "from matplotlib.colors import ListedColormap\n",
    "\n",
    "def plot_decision_boundary(X,y,clf):  \n",
    "    X_set, y_set = X, y\n",
    "    X1, X2 = np.meshgrid(np.arange(start = X_set[:, 0].min() - 1, stop = X_set[:, 0].max() + 1, step = 0.01), \n",
    "                         np.arange(start = X_set[:, 1].min() - 1, stop = X_set[:, 1].max() + 1, step = 0.01))\n",
    "    plt.contourf(X1, X2, clf.predict(np.array([X1.ravel(), X2.ravel()]).T).reshape(X1.shape), \n",
    "                 alpha = 0.25)\n",
    "    plt.xlim(X1.min(), X1.max())\n",
    "    plt.ylim(X2.min(), X2.max())\n",
    "    \n",
    "    for i, j in enumerate(np.unique(y_set)):\n",
    "        plt.scatter(X_set[y_set == j, 0], X_set[y_set == j, 1], label = j)\n",
    "    \n",
    "    plt.title('SVM on Iris')\n",
    "    plt.xlabel('Sepal length [cm]')\n",
    "    plt.ylabel('Petal length [cm]')\n",
    "    plt.legend()\n",
    "    plt.show()"
   ]
  },
  {
   "cell_type": "code",
   "execution_count": 42,
   "metadata": {},
   "outputs": [
    {
     "data": {
      "image/png": "[encoded data removed]",
      "text/plain": [
       "<Figure size 432x288 with 1 Axes>"
      ]
     },
     "metadata": {},
     "output_type": "display_data"
    }
   ],
   "source": [
    "from sklearn.datasets import load_iris\n",
    "from sklearn.svm import LinearSVC\n",
    "\n",
    "# Loading some example dat\n",
    "iris = load_iris()\n",
    "X = iris.data[:, [0, 2]]\n",
    "y = iris.target\n",
    "\n",
    "# Training a classifier, clf\n",
    "svc = LinearSVC(C=2, penalty='l2', loss='squared_hinge')\n",
    "svc.fit(X, y)\n",
    "\n",
    "# Plotting decision boundary\n",
    "plot_decision_boundary(X, y, clf=svc)"
   ]
  }
 ],
 "metadata": {
  "kernelspec": {
   "display_name": "Python 3",
   "language": "python",
   "name": "python3"
  },
  "language_info": {
   "codemirror_mode": {
    "name": "ipython",
    "version": 3
   },
   "file_extension": ".py",
   "mimetype": "text/x-python",
   "name": "python",
   "nbconvert_exporter": "python",
   "pygments_lexer": "ipython3",
   "version": "3.6.5"
  }
 },
 "nbformat": 4,
 "nbformat_minor": 2
}
